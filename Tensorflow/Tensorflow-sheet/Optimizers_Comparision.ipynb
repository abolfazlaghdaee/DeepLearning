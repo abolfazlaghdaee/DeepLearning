{
  "nbformat": 4,
  "nbformat_minor": 0,
  "metadata": {
    "colab": {
      "provenance": [],
      "gpuType": "T4"
    },
    "kernelspec": {
      "name": "python3",
      "display_name": "Python 3"
    },
    "language_info": {
      "name": "python"
    },
    "accelerator": "GPU"
  },
  "cells": [
    {
      "cell_type": "code",
      "execution_count": 26,
      "metadata": {
        "id": "ynwGuOqbEyMf"
      },
      "outputs": [],
      "source": [
        "import tensorflow as tf\n",
        "from tensorflow.keras.datasets import mnist\n",
        "from tensorflow.keras.models import Sequential\n",
        "from tensorflow.keras.layers import Conv2D,   MaxPooling2D\n",
        "from tensorflow.keras.layers import Dense,  Dropout, Flatten\n",
        "import numpy as np\n",
        "import matplotlib.pyplot as plt"
      ]
    },
    {
      "cell_type": "code",
      "source": [
        "(x_train,  y_train), (x_test, y_test) = mnist.load_data()"
      ],
      "metadata": {
        "colab": {
          "base_uri": "https://localhost:8080/"
        },
        "id": "DZCXfAjAFoC4",
        "outputId": "1094b243-963a-4292-f83b-bc26b6096aa3"
      },
      "execution_count": 2,
      "outputs": [
        {
          "output_type": "stream",
          "name": "stdout",
          "text": [
            "Downloading data from https://storage.googleapis.com/tensorflow/tf-keras-datasets/mnist.npz\n",
            "11490434/11490434 [==============================] - 0s 0us/step\n"
          ]
        }
      ]
    },
    {
      "cell_type": "code",
      "source": [
        "x_train.shape , y_train.shape"
      ],
      "metadata": {
        "colab": {
          "base_uri": "https://localhost:8080/"
        },
        "id": "y2ZTJonbGK6n",
        "outputId": "b5e67939-94c8-4122-ad88-f5d3446a6d43"
      },
      "execution_count": 3,
      "outputs": [
        {
          "output_type": "execute_result",
          "data": {
            "text/plain": [
              "((60000, 28, 28), (60000,))"
            ]
          },
          "metadata": {},
          "execution_count": 3
        }
      ]
    },
    {
      "cell_type": "code",
      "source": [
        "x_test.shape, y_test.shape"
      ],
      "metadata": {
        "colab": {
          "base_uri": "https://localhost:8080/"
        },
        "id": "4afwq8KVGP_p",
        "outputId": "69aa2b3d-c4a5-4d4d-c098-4908b14920f1"
      },
      "execution_count": 4,
      "outputs": [
        {
          "output_type": "execute_result",
          "data": {
            "text/plain": [
              "((10000, 28, 28), (10000,))"
            ]
          },
          "metadata": {},
          "execution_count": 4
        }
      ]
    },
    {
      "cell_type": "code",
      "source": [
        "x_train.shape"
      ],
      "metadata": {
        "colab": {
          "base_uri": "https://localhost:8080/"
        },
        "id": "NLYrAkSbGgln",
        "outputId": "0c4bb5c4-a0e2-483d-dd3b-5bd780166938"
      },
      "execution_count": 5,
      "outputs": [
        {
          "output_type": "execute_result",
          "data": {
            "text/plain": [
              "(60000, 28, 28)"
            ]
          },
          "metadata": {},
          "execution_count": 5
        }
      ]
    },
    {
      "cell_type": "code",
      "source": [
        "x_train = np.expand_dims(x_train, -1)"
      ],
      "metadata": {
        "id": "vdE6ICvhGomA"
      },
      "execution_count": 6,
      "outputs": []
    },
    {
      "cell_type": "code",
      "source": [
        "x_train.shape"
      ],
      "metadata": {
        "colab": {
          "base_uri": "https://localhost:8080/"
        },
        "id": "8THunPX6HQak",
        "outputId": "cbe22ff4-0794-4e6f-fb8d-a7bb4d95fca6"
      },
      "execution_count": 7,
      "outputs": [
        {
          "output_type": "execute_result",
          "data": {
            "text/plain": [
              "(60000, 28, 28, 1)"
            ]
          },
          "metadata": {},
          "execution_count": 7
        }
      ]
    },
    {
      "cell_type": "code",
      "source": [
        "x_test = np.expand_dims(x_test, -1)\n",
        "x_test.shape"
      ],
      "metadata": {
        "colab": {
          "base_uri": "https://localhost:8080/"
        },
        "id": "LiysMsbvIS3-",
        "outputId": "f17976dc-444c-4d2f-e10f-7c5f18c5ab5c"
      },
      "execution_count": 8,
      "outputs": [
        {
          "output_type": "execute_result",
          "data": {
            "text/plain": [
              "(10000, 28, 28, 1)"
            ]
          },
          "metadata": {},
          "execution_count": 8
        }
      ]
    },
    {
      "cell_type": "code",
      "source": [
        "x_train = x_train.astype('float32')/255\n",
        "x_test = x_test.astype('float32') /255"
      ],
      "metadata": {
        "id": "QYtCiNzDIgoN"
      },
      "execution_count": 9,
      "outputs": []
    },
    {
      "cell_type": "code",
      "source": [
        "np.max(x_train), np.min(x_train)"
      ],
      "metadata": {
        "colab": {
          "base_uri": "https://localhost:8080/"
        },
        "id": "VBEpkGKEIpGt",
        "outputId": "2203682a-fcc0-476b-c342-8b7b1ed5d939"
      },
      "execution_count": 10,
      "outputs": [
        {
          "output_type": "execute_result",
          "data": {
            "text/plain": [
              "(1.0, 0.0)"
            ]
          },
          "metadata": {},
          "execution_count": 10
        }
      ]
    },
    {
      "cell_type": "code",
      "source": [
        "y_train = tf.keras.utils.to_categorical(y_train)\n",
        "y_test = tf.keras.utils.to_categorical(y_test)"
      ],
      "metadata": {
        "id": "TNa5ivGZIziF"
      },
      "execution_count": 11,
      "outputs": []
    },
    {
      "cell_type": "code",
      "source": [
        "def build_optim(op):\n",
        "  model  = tf.keras.Sequential()\n",
        "  model.add(tf.keras.layers.Conv2D(filters = 32,\n",
        "                                   kernel_size = (3, 3),\n",
        "                                   strides = 1,\n",
        "                                   activation ='relu',\n",
        "                                   input_shape = (28, 28, 1)))\n",
        "\n",
        "  model.add(tf.keras.layers.MaxPool2D())\n",
        "  model.add(tf.keras.layers.Conv2D(filters = 32,\n",
        "                                   kernel_size = (3, 3),\n",
        "                                   strides = 1,\n",
        "                                   activation ='relu',\n",
        "                                   ))\n",
        "\n",
        "  model.add(tf.keras.layers.Dropout(0.25))\n",
        "  model.add(tf.keras.layers.Flatten())\n",
        "  model.add(tf.keras.layers.Dense(125, activation = 'relu'))\n",
        "  model.add(tf.keras.layers.Dense(256, activation = 'relu'))\n",
        "  model.add(tf.keras.layers.Dropout(0.25))\n",
        "\n",
        "  model.add(tf.keras.layers.Dense(10, activation = 'softmax'))\n",
        "\n",
        "  model.compile(loss ='binary_crossentropy',  optimizer = op, metrics =['accuracy'])\n",
        "\n",
        "\n",
        "  return model\n",
        "\n"
      ],
      "metadata": {
        "id": "0LkjHNRtI_br"
      },
      "execution_count": 12,
      "outputs": []
    },
    {
      "cell_type": "code",
      "source": [
        "\n",
        "\n",
        "\n",
        "optimizers = ['Adam', 'RMSprop', 'Adadelta', 'Adagrad', 'SGD']\n",
        "\n",
        "opt_res = []\n",
        "model_res = []\n",
        "\n",
        "for i in optimizers:\n",
        "  model = build_optim(i)\n",
        "  print('Accuracy:', i)\n",
        "  print('\\n')\n",
        "  hist = model.fit(x_train, y_train, epochs = 5, batch_size = 64, validation_data = (x_test, y_test))\n",
        "\n",
        "  model_res.append(hist)\n",
        "  opt_res.append(hist.history['accuracy'])\n",
        "\n",
        "\n",
        "\n",
        "\n"
      ],
      "metadata": {
        "colab": {
          "base_uri": "https://localhost:8080/"
        },
        "id": "4Y-ThcMRKgaj",
        "outputId": "b53f333e-01a0-4d62-9567-9a15ba42c226"
      },
      "execution_count": 13,
      "outputs": [
        {
          "output_type": "stream",
          "name": "stdout",
          "text": [
            "Accuracy: Adam\n",
            "\n",
            "\n",
            "Epoch 1/5\n",
            "938/938 [==============================] - 15s 6ms/step - loss: 0.0427 - accuracy: 0.9288 - val_loss: 0.0095 - val_accuracy: 0.9839\n",
            "Epoch 2/5\n",
            "938/938 [==============================] - 5s 5ms/step - loss: 0.0107 - accuracy: 0.9834 - val_loss: 0.0065 - val_accuracy: 0.9884\n",
            "Epoch 3/5\n",
            "938/938 [==============================] - 5s 5ms/step - loss: 0.0073 - accuracy: 0.9887 - val_loss: 0.0066 - val_accuracy: 0.9887\n",
            "Epoch 4/5\n",
            "938/938 [==============================] - 5s 5ms/step - loss: 0.0058 - accuracy: 0.9911 - val_loss: 0.0060 - val_accuracy: 0.9896\n",
            "Epoch 5/5\n",
            "938/938 [==============================] - 4s 4ms/step - loss: 0.0043 - accuracy: 0.9934 - val_loss: 0.0057 - val_accuracy: 0.9908\n",
            "Accuracy: RMSprop\n",
            "\n",
            "\n",
            "Epoch 1/5\n",
            "938/938 [==============================] - 7s 6ms/step - loss: 0.0450 - accuracy: 0.9225 - val_loss: 0.0111 - val_accuracy: 0.9809\n",
            "Epoch 2/5\n",
            "938/938 [==============================] - 4s 4ms/step - loss: 0.0120 - accuracy: 0.9813 - val_loss: 0.0086 - val_accuracy: 0.9860\n",
            "Epoch 3/5\n",
            "938/938 [==============================] - 4s 4ms/step - loss: 0.0081 - accuracy: 0.9876 - val_loss: 0.0062 - val_accuracy: 0.9890\n",
            "Epoch 4/5\n",
            "938/938 [==============================] - 5s 5ms/step - loss: 0.0064 - accuracy: 0.9902 - val_loss: 0.0062 - val_accuracy: 0.9896\n",
            "Epoch 5/5\n",
            "938/938 [==============================] - 4s 5ms/step - loss: 0.0050 - accuracy: 0.9923 - val_loss: 0.0061 - val_accuracy: 0.9903\n",
            "Accuracy: Adadelta\n",
            "\n",
            "\n",
            "Epoch 1/5\n",
            "938/938 [==============================] - 7s 5ms/step - loss: 0.6747 - accuracy: 0.0944 - val_loss: 0.6384 - val_accuracy: 0.0886\n",
            "Epoch 2/5\n",
            "938/938 [==============================] - 4s 5ms/step - loss: 0.5603 - accuracy: 0.0923 - val_loss: 0.4329 - val_accuracy: 0.0688\n",
            "Epoch 3/5\n",
            "938/938 [==============================] - 4s 5ms/step - loss: 0.3718 - accuracy: 0.1007 - val_loss: 0.3335 - val_accuracy: 0.1102\n",
            "Epoch 4/5\n",
            "938/938 [==============================] - 5s 5ms/step - loss: 0.3399 - accuracy: 0.1146 - val_loss: 0.3273 - val_accuracy: 0.2361\n",
            "Epoch 5/5\n",
            "938/938 [==============================] - 4s 4ms/step - loss: 0.3354 - accuracy: 0.1313 - val_loss: 0.3232 - val_accuracy: 0.3115\n",
            "Accuracy: Adagrad\n",
            "\n",
            "\n",
            "Epoch 1/5\n",
            "938/938 [==============================] - 6s 5ms/step - loss: 0.5189 - accuracy: 0.1331 - val_loss: 0.3246 - val_accuracy: 0.1616\n",
            "Epoch 2/5\n",
            "938/938 [==============================] - 5s 5ms/step - loss: 0.3274 - accuracy: 0.1729 - val_loss: 0.3088 - val_accuracy: 0.4285\n",
            "Epoch 3/5\n",
            "938/938 [==============================] - 4s 4ms/step - loss: 0.3101 - accuracy: 0.2695 - val_loss: 0.2842 - val_accuracy: 0.6129\n",
            "Epoch 4/5\n",
            "938/938 [==============================] - 4s 4ms/step - loss: 0.2830 - accuracy: 0.3993 - val_loss: 0.2454 - val_accuracy: 0.7070\n",
            "Epoch 5/5\n",
            "938/938 [==============================] - 5s 5ms/step - loss: 0.2455 - accuracy: 0.5329 - val_loss: 0.2002 - val_accuracy: 0.7583\n",
            "Accuracy: SGD\n",
            "\n",
            "\n",
            "Epoch 1/5\n",
            "938/938 [==============================] - 6s 5ms/step - loss: 0.3852 - accuracy: 0.1660 - val_loss: 0.2912 - val_accuracy: 0.6194\n",
            "Epoch 2/5\n",
            "938/938 [==============================] - 5s 5ms/step - loss: 0.2476 - accuracy: 0.5115 - val_loss: 0.1537 - val_accuracy: 0.7875\n",
            "Epoch 3/5\n",
            "938/938 [==============================] - 4s 4ms/step - loss: 0.1568 - accuracy: 0.7350 - val_loss: 0.1024 - val_accuracy: 0.8603\n",
            "Epoch 4/5\n",
            "938/938 [==============================] - 4s 5ms/step - loss: 0.1210 - accuracy: 0.8054 - val_loss: 0.0802 - val_accuracy: 0.8834\n",
            "Epoch 5/5\n",
            "938/938 [==============================] - 5s 5ms/step - loss: 0.1013 - accuracy: 0.8401 - val_loss: 0.0684 - val_accuracy: 0.8983\n"
          ]
        }
      ]
    },
    {
      "cell_type": "code",
      "source": [
        "optimizers"
      ],
      "metadata": {
        "colab": {
          "base_uri": "https://localhost:8080/"
        },
        "id": "joik5qLSL6NG",
        "outputId": "17174b76-3cbb-4686-d032-e772c716843b"
      },
      "execution_count": 24,
      "outputs": [
        {
          "output_type": "execute_result",
          "data": {
            "text/plain": [
              "['Adam', 'RMSprop', 'Adadelta', 'Adagrad', 'SGD']"
            ]
          },
          "metadata": {},
          "execution_count": 24
        }
      ]
    },
    {
      "cell_type": "code",
      "source": [
        "adam, rmsprop, adadelta,  adagrad, sgd = opt_res"
      ],
      "metadata": {
        "id": "IqH_SAVcNKbd"
      },
      "execution_count": 31,
      "outputs": []
    },
    {
      "cell_type": "code",
      "source": [],
      "metadata": {
        "id": "F-pvUUCBQ1bA"
      },
      "execution_count": null,
      "outputs": []
    },
    {
      "cell_type": "code",
      "source": [
        "import matplotlib.pyplot as plt\n",
        "\n",
        "x_values = [1, 2, 3, 4, 5]\n",
        "y_values = [adam, rmsprop, adadelta, adagrad, sgd]\n",
        "optimizers = ['Adam', 'RMSprop', 'Adadelta', 'Adagrad', 'SGD']\n",
        "\n",
        "fig, ax = plt.subplots(figsize=(10, 6))\n",
        "for y in y_values:\n",
        "    ax.plot(x_values, y)\n",
        "\n",
        "\n",
        "plt.title('Optimizers Performance Comparison')\n",
        "plt.ylabel('Accuracy')\n",
        "plt.legend(optimizers, fontsize=9, loc='upper right')\n",
        "plt.show()\n"
      ],
      "metadata": {
        "colab": {
          "base_uri": "https://localhost:8080/",
          "height": 545
        },
        "id": "Sj6tt093Q1Yg",
        "outputId": "655afc88-3ff2-4fc5-d5e6-2521ca27beab"
      },
      "execution_count": 52,
      "outputs": [
        {
          "output_type": "display_data",
          "data": {
            "text/plain": [
              "<Figure size 1000x600 with 1 Axes>"
            ],
            "image/png": "[encoded data removed]"
          },
          "metadata": {}
        }
      ]
    }
  ]
}